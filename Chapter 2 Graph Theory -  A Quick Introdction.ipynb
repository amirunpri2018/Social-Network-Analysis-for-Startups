{
 "cells": [
  {
   "cell_type": "code",
   "execution_count": 1,
   "metadata": {
    "collapsed": true
   },
   "outputs": [],
   "source": [
    "import networkx.generators.small\n",
    "import networkx as nx\n",
    "\n",
    "import matplotlib.pyplot as plt\n",
    "%matplotlib inline"
   ]
  },
  {
   "cell_type": "code",
   "execution_count": 205,
   "metadata": {
    "collapsed": true
   },
   "outputs": [],
   "source": [
    "g = networkx.generators.small.krackhardt_kite_graph()"
   ]
  },
  {
   "cell_type": "code",
   "execution_count": 206,
   "metadata": {},
   "outputs": [
    {
     "data": {
      "text/plain": [
       "10"
      ]
     },
     "execution_count": 206,
     "metadata": {},
     "output_type": "execute_result"
    }
   ],
   "source": [
    "g.number_of_nodes()"
   ]
  },
  {
   "cell_type": "code",
   "execution_count": 207,
   "metadata": {},
   "outputs": [
    {
     "data": {
      "text/plain": [
       "10"
      ]
     },
     "execution_count": 207,
     "metadata": {},
     "output_type": "execute_result"
    }
   ],
   "source": [
    "g.number_of_nodes()"
   ]
  },
  {
   "cell_type": "code",
   "execution_count": 208,
   "metadata": {},
   "outputs": [
    {
     "data": {
      "image/png": "[encoded data removed]",
      "text/plain": [
       "<matplotlib.figure.Figure at 0x12142b0>"
      ]
     },
     "metadata": {},
     "output_type": "display_data"
    }
   ],
   "source": [
    "nx.draw(g, with_labels=True)"
   ]
  },
  {
   "cell_type": "code",
   "execution_count": 6,
   "metadata": {},
   "outputs": [
    {
     "data": {
      "text/plain": [
       "[[1, 2, 3, 5],\n",
       " [0, 3, 4, 6],\n",
       " [0, 3, 5],\n",
       " [0, 1, 2, 4, 5, 6],\n",
       " [1, 3, 6],\n",
       " [0, 2, 3, 6, 7],\n",
       " [1, 3, 4, 5, 7],\n",
       " [8, 5, 6],\n",
       " [9, 7],\n",
       " [8]]"
      ]
     },
     "execution_count": 6,
     "metadata": {},
     "output_type": "execute_result"
    }
   ],
   "source": [
    "g.adjacency_list()"
   ]
  },
  {
   "cell_type": "code",
   "execution_count": 7,
   "metadata": {},
   "outputs": [
    {
     "data": {
      "text/plain": [
       "[(0, 1),\n",
       " (0, 2),\n",
       " (0, 3),\n",
       " (0, 5),\n",
       " (1, 3),\n",
       " (1, 4),\n",
       " (1, 6),\n",
       " (2, 3),\n",
       " (2, 5),\n",
       " (3, 4),\n",
       " (3, 5),\n",
       " (3, 6),\n",
       " (4, 6),\n",
       " (5, 6),\n",
       " (5, 7),\n",
       " (6, 7),\n",
       " (7, 8),\n",
       " (8, 9)]"
      ]
     },
     "execution_count": 7,
     "metadata": {},
     "output_type": "execute_result"
    }
   ],
   "source": [
    "g.edges()"
   ]
  },
  {
   "cell_type": "code",
   "execution_count": 8,
   "metadata": {},
   "outputs": [
    {
     "data": {
      "text/plain": [
       "{0: [1, 2, 3, 5],\n",
       " 1: [0, 3, 4, 6],\n",
       " 2: [0, 3, 5],\n",
       " 3: [0, 1, 2, 4, 5, 6],\n",
       " 4: [1, 3, 6],\n",
       " 5: [0, 2, 3, 6, 7],\n",
       " 6: [1, 3, 4, 5, 7],\n",
       " 7: [8, 5, 6],\n",
       " 8: [9, 7],\n",
       " 9: [8]}"
      ]
     },
     "execution_count": 8,
     "metadata": {},
     "output_type": "execute_result"
    }
   ],
   "source": [
    "dict((x, g.neighbors(x)) for x in g.nodes())"
   ]
  },
  {
   "cell_type": "code",
   "execution_count": 9,
   "metadata": {},
   "outputs": [
    {
     "data": {
      "text/plain": [
       "{0: [1, 2, 3, 5],\n",
       " 1: [0, 3, 4, 6],\n",
       " 2: [0, 3, 5],\n",
       " 3: [0, 1, 2, 4, 5, 6],\n",
       " 4: [1, 3, 6],\n",
       " 5: [0, 2, 3, 6, 7],\n",
       " 6: [1, 3, 4, 5, 7],\n",
       " 7: [8, 5, 6],\n",
       " 8: [9, 7],\n",
       " 9: [8]}"
      ]
     },
     "execution_count": 9,
     "metadata": {},
     "output_type": "execute_result"
    }
   ],
   "source": [
    "#same as above but with dict comprehension\n",
    "{x: g.neighbors(x) for x in g.nodes()}"
   ]
  },
  {
   "cell_type": "code",
   "execution_count": 10,
   "metadata": {
    "collapsed": true
   },
   "outputs": [],
   "source": [
    "# %doctest_mode off"
   ]
  },
  {
   "cell_type": "code",
   "execution_count": 11,
   "metadata": {
    "collapsed": true
   },
   "outputs": [],
   "source": [
    "nx.generators.small.krackhardt_kite_graph?"
   ]
  },
  {
   "cell_type": "markdown",
   "metadata": {},
   "source": [
    "### Traversal"
   ]
  },
  {
   "cell_type": "code",
   "execution_count": 12,
   "metadata": {
    "collapsed": true
   },
   "outputs": [],
   "source": [
    "from networkx.algorithms import traversal"
   ]
  },
  {
   "cell_type": "code",
   "execution_count": 13,
   "metadata": {
    "collapsed": true
   },
   "outputs": [],
   "source": [
    "def DFS_nodes(graph, node, visited=[]):\n",
    "    visited.append(node)\n",
    "    for neighbor in graph[node]:\n",
    "        if not neighbor in visited:\n",
    "            DFS_nodes(graph, neighbor, visited)\n",
    "    return visited\n",
    "\n",
    "def DFS_edges(graph, node, visited=[], edges=[]):\n",
    "    visited.append(node)\n",
    "    for neighbor in graph[node]:\n",
    "        if not neighbor in visited:\n",
    "            edges.append((node, neighbor))\n",
    "            DFS_edges(graph, neighbor, visited, edges)\n",
    "    return edges"
   ]
  },
  {
   "cell_type": "code",
   "execution_count": 14,
   "metadata": {
    "scrolled": true
   },
   "outputs": [
    {
     "data": {
      "image/png": "[encoded data removed]",
      "text/plain": [
       "<matplotlib.figure.Figure at 0x8d479b0>"
      ]
     },
     "metadata": {},
     "output_type": "display_data"
    }
   ],
   "source": [
    "nx.draw(g, with_labels=True)"
   ]
  },
  {
   "cell_type": "code",
   "execution_count": 15,
   "metadata": {},
   "outputs": [
    {
     "data": {
      "text/plain": [
       "[1, 0, 2, 3, 4, 6, 5, 7, 8, 9]"
      ]
     },
     "execution_count": 15,
     "metadata": {},
     "output_type": "execute_result"
    }
   ],
   "source": [
    "DFS_nodes(g, 1, [])"
   ]
  },
  {
   "cell_type": "code",
   "execution_count": 16,
   "metadata": {
    "scrolled": true
   },
   "outputs": [
    {
     "data": {
      "text/plain": [
       "{0: [0, 1, 3, 2, 5, 6, 4, 7, 8, 9],\n",
       " 1: [1, 0, 2, 3, 4, 6, 5, 7, 8, 9],\n",
       " 2: [2, 0, 1, 3, 4, 6, 5, 7, 8, 9],\n",
       " 3: [3, 0, 1, 4, 6, 5, 2, 7, 8, 9],\n",
       " 4: [4, 1, 0, 2, 3, 5, 6, 7, 8, 9],\n",
       " 5: [5, 0, 1, 3, 2, 4, 6, 7, 8, 9],\n",
       " 6: [6, 1, 0, 2, 3, 4, 5, 7, 8, 9],\n",
       " 7: [7, 8, 9, 5, 0, 1, 3, 2, 4, 6],\n",
       " 8: [8, 9, 7, 5, 0, 1, 3, 2, 4, 6],\n",
       " 9: [9, 8, 7, 5, 0, 1, 3, 2, 4, 6]}"
      ]
     },
     "execution_count": 16,
     "metadata": {},
     "output_type": "execute_result"
    }
   ],
   "source": [
    "{node: DFS_nodes(g, node, []) for node in g.nodes()}"
   ]
  },
  {
   "cell_type": "code",
   "execution_count": 41,
   "metadata": {
    "scrolled": true
   },
   "outputs": [
    {
     "data": {
      "text/plain": [
       "{0: [(0, 1), (1, 3), (3, 2), (2, 5), (5, 6), (6, 4), (6, 7), (7, 8), (8, 9)],\n",
       " 1: [(1, 0), (0, 2), (2, 3), (3, 4), (4, 6), (6, 5), (5, 7), (7, 8), (8, 9)],\n",
       " 2: [(2, 0), (0, 1), (1, 3), (3, 4), (4, 6), (6, 5), (5, 7), (7, 8), (8, 9)],\n",
       " 3: [(3, 0), (0, 1), (1, 4), (4, 6), (6, 5), (5, 2), (5, 7), (7, 8), (8, 9)],\n",
       " 4: [(4, 1), (1, 0), (0, 2), (2, 3), (3, 5), (5, 6), (6, 7), (7, 8), (8, 9)],\n",
       " 5: [(5, 0), (0, 1), (1, 3), (3, 2), (3, 4), (4, 6), (6, 7), (7, 8), (8, 9)],\n",
       " 6: [(6, 1), (1, 0), (0, 2), (2, 3), (3, 4), (3, 5), (5, 7), (7, 8), (8, 9)],\n",
       " 7: [(7, 8), (8, 9), (7, 5), (5, 0), (0, 1), (1, 3), (3, 2), (3, 4), (4, 6)],\n",
       " 8: [(8, 9), (8, 7), (7, 5), (5, 0), (0, 1), (1, 3), (3, 2), (3, 4), (4, 6)],\n",
       " 9: [(9, 8), (8, 7), (7, 5), (5, 0), (0, 1), (1, 3), (3, 2), (3, 4), (4, 6)]}"
      ]
     },
     "execution_count": 41,
     "metadata": {},
     "output_type": "execute_result"
    }
   ],
   "source": [
    "{node: DFS_edges(g, node, [], []) for node in g.nodes()}"
   ]
  },
  {
   "cell_type": "code",
   "execution_count": 18,
   "metadata": {},
   "outputs": [
    {
     "data": {
      "text/plain": [
       "<generator object dfs_edges at 0x0000000008F6ACA8>"
      ]
     },
     "execution_count": 18,
     "metadata": {},
     "output_type": "execute_result"
    }
   ],
   "source": [
    "edges = traversal.dfs_edges(g)\n",
    "edges"
   ]
  },
  {
   "cell_type": "code",
   "execution_count": 19,
   "metadata": {},
   "outputs": [
    {
     "data": {
      "text/plain": [
       "[(0, 1), (1, 3), (3, 2), (2, 5), (5, 6), (6, 4), (6, 7), (7, 8), (8, 9)]"
      ]
     },
     "execution_count": 19,
     "metadata": {},
     "output_type": "execute_result"
    }
   ],
   "source": [
    "list(edges)"
   ]
  },
  {
   "cell_type": "code",
   "execution_count": 20,
   "metadata": {},
   "outputs": [
    {
     "data": {
      "text/plain": [
       "<generator object dfs_edges at 0x0000000008F52678>"
      ]
     },
     "execution_count": 20,
     "metadata": {},
     "output_type": "execute_result"
    }
   ],
   "source": [
    "edges = traversal.dfs_edges(g, source=3)\n",
    "edges"
   ]
  },
  {
   "cell_type": "code",
   "execution_count": 21,
   "metadata": {},
   "outputs": [
    {
     "data": {
      "text/plain": [
       "[(3, 0), (0, 1), (1, 4), (4, 6), (6, 5), (5, 2), (5, 7), (7, 8), (8, 9)]"
      ]
     },
     "execution_count": 21,
     "metadata": {},
     "output_type": "execute_result"
    }
   ],
   "source": [
    "list(edges)"
   ]
  },
  {
   "cell_type": "code",
   "execution_count": 22,
   "metadata": {},
   "outputs": [
    {
     "data": {
      "text/plain": [
       "{0: [1], 1: [3], 2: [5], 3: [2], 5: [6], 6: [4, 7], 7: [8], 8: [9]}"
      ]
     },
     "execution_count": 22,
     "metadata": {},
     "output_type": "execute_result"
    }
   ],
   "source": [
    "traversal.dfs_successors(g)"
   ]
  },
  {
   "cell_type": "code",
   "execution_count": 23,
   "metadata": {},
   "outputs": [
    {
     "data": {
      "text/plain": [
       "{0: 5, 1: 0, 2: 3, 3: 1, 4: 3, 5: 7, 6: 4, 8: 7, 9: 8}"
      ]
     },
     "execution_count": 23,
     "metadata": {},
     "output_type": "execute_result"
    }
   ],
   "source": [
    "traversal.dfs_predecessors(g, 7)"
   ]
  },
  {
   "cell_type": "code",
   "execution_count": 38,
   "metadata": {},
   "outputs": [
    {
     "data": {
      "text/plain": [
       "{0: {1: {}},\n",
       " 1: {3: {}},\n",
       " 2: {5: {}},\n",
       " 3: {2: {}},\n",
       " 4: {},\n",
       " 5: {6: {}},\n",
       " 6: {4: {}, 7: {}},\n",
       " 7: {8: {}},\n",
       " 8: {9: {}},\n",
       " 9: {}}"
      ]
     },
     "execution_count": 38,
     "metadata": {},
     "output_type": "execute_result"
    }
   ],
   "source": [
    "tree = traversal.dfs_tree(g, source=0)\n",
    "tree.adj"
   ]
  },
  {
   "cell_type": "code",
   "execution_count": 25,
   "metadata": {},
   "outputs": [
    {
     "data": {
      "image/png": "[encoded data removed]",
      "text/plain": [
       "<matplotlib.figure.Figure at 0x9ff22e8>"
      ]
     },
     "metadata": {},
     "output_type": "display_data"
    }
   ],
   "source": [
    "nx.draw(tree, with_labels=True)"
   ]
  },
  {
   "cell_type": "code",
   "execution_count": 26,
   "metadata": {},
   "outputs": [
    {
     "data": {
      "text/plain": [
       "{0: {1: {}},\n",
       " 1: {3: {}},\n",
       " 2: {5: {}},\n",
       " 3: {2: {}},\n",
       " 4: {},\n",
       " 5: {6: {}},\n",
       " 6: {4: {}, 7: {}},\n",
       " 7: {8: {}},\n",
       " 8: {9: {}},\n",
       " 9: {}}"
      ]
     },
     "execution_count": 26,
     "metadata": {},
     "output_type": "execute_result"
    }
   ],
   "source": [
    "tree.succ"
   ]
  },
  {
   "cell_type": "code",
   "execution_count": 27,
   "metadata": {
    "collapsed": true
   },
   "outputs": [],
   "source": [
    "from collections import deque"
   ]
  },
  {
   "cell_type": "code",
   "execution_count": 28,
   "metadata": {},
   "outputs": [],
   "source": [
    "def BFS_nodes(graph, start):\n",
    "    \"\"\"Returns the breath-first traversal through the graph, from start\"\"\"\n",
    "    q = deque([start])\n",
    "    visited = []\n",
    "    while len(q) > 0:\n",
    "        node = q.popleft()\n",
    "        if node not in visited:\n",
    "            visited.append(node)\n",
    "            q.extend([neighbor for neighbor in graph[node] \n",
    "                      if neighbor not in visited])\n",
    "    return visited"
   ]
  },
  {
   "cell_type": "code",
   "execution_count": 29,
   "metadata": {},
   "outputs": [],
   "source": [
    "def DFS_nodes_stack (graph, start):\n",
    "    \"\"\"Returns the breath-first traversal through the graph, from start\"\"\"\n",
    "    q = deque([start])\n",
    "    visited = []\n",
    "    while len(q) > 0:\n",
    "        node = q.pop()\n",
    "        if node not in visited:\n",
    "            visited.append(node)\n",
    "            q.extend(reversed([neighbor for neighbor in graph[node] \\\n",
    "                      if neighbor not in visited])) \n",
    "    return visited"
   ]
  },
  {
   "cell_type": "code",
   "execution_count": 30,
   "metadata": {},
   "outputs": [
    {
     "data": {
      "text/plain": [
       "[1, 2, 3, 5]"
      ]
     },
     "execution_count": 30,
     "metadata": {},
     "output_type": "execute_result"
    }
   ],
   "source": [
    "node = 0\n",
    "graph = g\n",
    "[neighbor for neighbor in graph[node]]\n",
    "\n",
    "# It's necessary to do reversed([...]) in the function above. Otherwise, \n",
    "# it will go first to the last of the neighbors of a node, instead of the first.\n",
    "# It'd to DFS as well, but would do it starting \"from the right\", intead of the \n",
    "# most logical way, starting \"from the left\""
   ]
  },
  {
   "cell_type": "code",
   "execution_count": 44,
   "metadata": {},
   "outputs": [
    {
     "data": {
      "image/png": "[encoded data removed]",
      "text/plain": [
       "<matplotlib.figure.Figure at 0x12ab390>"
      ]
     },
     "metadata": {},
     "output_type": "display_data"
    }
   ],
   "source": [
    "nx.draw(g, with_labels=True)"
   ]
  },
  {
   "cell_type": "code",
   "execution_count": 32,
   "metadata": {},
   "outputs": [
    {
     "name": "stdout",
     "output_type": "stream",
     "text": [
      "BFS:  [7, 8, 5, 6, 9, 0, 2, 3, 1, 4]\n",
      "DFS with stack:  [7, 8, 9, 5, 0, 1, 3, 2, 4, 6]\n",
      "DFS without st:  [7, 8, 9, 5, 0, 1, 3, 2, 4, 6]\n"
     ]
    }
   ],
   "source": [
    "start_node = 7\n",
    "\n",
    "print(\"BFS: \", BFS_nodes(g, start=start_node))\n",
    "print(\"DFS with stack: \", DFS_nodes_stack(g, start=start_node))\n",
    "print(\"DFS without st: \", DFS_nodes(g, node=start_node, visited=[]))"
   ]
  },
  {
   "cell_type": "markdown",
   "metadata": {},
   "source": [
    "#### BFS with NetworkX"
   ]
  },
  {
   "cell_type": "code",
   "execution_count": 33,
   "metadata": {},
   "outputs": [
    {
     "data": {
      "text/plain": [
       "[(7, 8), (7, 5), (7, 6), (8, 9), (5, 0), (5, 2), (5, 3), (6, 1), (6, 4)]"
      ]
     },
     "execution_count": 33,
     "metadata": {},
     "output_type": "execute_result"
    }
   ],
   "source": [
    "edges = traversal.bfs_edges(g, start_node)\n",
    "list(edges)"
   ]
  },
  {
   "cell_type": "code",
   "execution_count": 60,
   "metadata": {},
   "outputs": [
    {
     "data": {
      "text/plain": [
       "{0: {},\n",
       " 1: {},\n",
       " 2: {},\n",
       " 3: {},\n",
       " 4: {},\n",
       " 5: {0: {}, 2: {}, 3: {}},\n",
       " 6: {1: {}, 4: {}},\n",
       " 7: {5: {}, 6: {}, 8: {}},\n",
       " 8: {9: {}},\n",
       " 9: {}}"
      ]
     },
     "execution_count": 60,
     "metadata": {},
     "output_type": "execute_result"
    }
   ],
   "source": [
    "tree = traversal.bfs_tree(g, start_node)\n",
    "tree.adj"
   ]
  },
  {
   "cell_type": "code",
   "execution_count": 63,
   "metadata": {},
   "outputs": [
    {
     "data": {
      "image/png": "[encoded data removed]",
      "text/plain": [
       "<matplotlib.figure.Figure at 0xa0910f0>"
      ]
     },
     "metadata": {},
     "output_type": "display_data"
    }
   ],
   "source": [
    "nx.draw(tree, with_labels=True)"
   ]
  },
  {
   "cell_type": "code",
   "execution_count": 66,
   "metadata": {},
   "outputs": [
    {
     "data": {
      "text/plain": [
       "{5: [0, 2, 3], 6: [1, 4], 7: [8, 5, 6], 8: [9]}"
      ]
     },
     "execution_count": 66,
     "metadata": {},
     "output_type": "execute_result"
    }
   ],
   "source": [
    "traversal.bfs_successors(g, start_node)"
   ]
  },
  {
   "cell_type": "code",
   "execution_count": 67,
   "metadata": {},
   "outputs": [
    {
     "data": {
      "text/plain": [
       "{0: [1], 1: [3], 3: [2, 4], 4: [6], 5: [0], 7: [8, 5], 8: [9]}"
      ]
     },
     "execution_count": 67,
     "metadata": {},
     "output_type": "execute_result"
    }
   ],
   "source": [
    "traversal.dfs_successors(g, start_node)"
   ]
  },
  {
   "cell_type": "markdown",
   "metadata": {},
   "source": [
    "### Paths and walks"
   ]
  },
  {
   "cell_type": "code",
   "execution_count": 68,
   "metadata": {
    "collapsed": true
   },
   "outputs": [],
   "source": [
    "from networkx import algorithms"
   ]
  },
  {
   "cell_type": "code",
   "execution_count": 69,
   "metadata": {},
   "outputs": [
    {
     "data": {
      "text/plain": [
       "[0, 5]"
      ]
     },
     "execution_count": 69,
     "metadata": {},
     "output_type": "execute_result"
    }
   ],
   "source": [
    "algorithms.shortest_path(g, 0, 5)"
   ]
  },
  {
   "cell_type": "code",
   "execution_count": 70,
   "metadata": {},
   "outputs": [
    {
     "data": {
      "text/plain": [
       "[0, 5, 7]"
      ]
     },
     "execution_count": 70,
     "metadata": {},
     "output_type": "execute_result"
    }
   ],
   "source": [
    "algorithms.shortest_path(g, 0, 7)"
   ]
  },
  {
   "cell_type": "code",
   "execution_count": 75,
   "metadata": {},
   "outputs": [
    {
     "data": {
      "text/plain": [
       "1.9777777777777779"
      ]
     },
     "execution_count": 75,
     "metadata": {},
     "output_type": "execute_result"
    }
   ],
   "source": [
    "algorithms.average_shortest_path_length(g)"
   ]
  },
  {
   "cell_type": "code",
   "execution_count": 79,
   "metadata": {},
   "outputs": [
    {
     "data": {
      "text/plain": [
       "{0: [7, 5, 0],\n",
       " 1: [7, 6, 1],\n",
       " 2: [7, 5, 2],\n",
       " 3: [7, 5, 3],\n",
       " 4: [7, 6, 4],\n",
       " 5: [7, 5],\n",
       " 6: [7, 6],\n",
       " 7: [7],\n",
       " 8: [7, 8],\n",
       " 9: [7, 8, 9]}"
      ]
     },
     "execution_count": 79,
     "metadata": {},
     "output_type": "execute_result"
    }
   ],
   "source": [
    "# shortest paths in a graph, from a starting node\n",
    "\n",
    "algorithms.all_pairs_shortest_path(g)[7]"
   ]
  },
  {
   "cell_type": "markdown",
   "metadata": {},
   "source": [
    "### Dijkstra's Algorithm"
   ]
  },
  {
   "cell_type": "code",
   "execution_count": 82,
   "metadata": {},
   "outputs": [
    {
     "data": {
      "image/png": "[encoded data removed]",
      "text/plain": [
       "<matplotlib.figure.Figure at 0x145ef98>"
      ]
     },
     "metadata": {},
     "output_type": "display_data"
    }
   ],
   "source": [
    "nx.draw(g, with_labels=True)"
   ]
  },
  {
   "cell_type": "code",
   "execution_count": 80,
   "metadata": {},
   "outputs": [
    {
     "data": {
      "text/plain": [
       "[1, 0, 5]"
      ]
     },
     "execution_count": 80,
     "metadata": {},
     "output_type": "execute_result"
    }
   ],
   "source": [
    "algorithms.dijkstra_path(g, 1, 5)"
   ]
  },
  {
   "cell_type": "code",
   "execution_count": 81,
   "metadata": {},
   "outputs": [
    {
     "data": {
      "text/plain": [
       "({0: [1],\n",
       "  1: [],\n",
       "  2: [0, 3],\n",
       "  3: [1],\n",
       "  4: [1],\n",
       "  5: [0, 3, 6],\n",
       "  6: [1],\n",
       "  7: [6],\n",
       "  8: [7],\n",
       "  9: [8]},\n",
       " {0: 1, 1: 0, 2: 2, 3: 1, 4: 1, 5: 2, 6: 1, 7: 2, 8: 3, 9: 4})"
      ]
     },
     "execution_count": 81,
     "metadata": {},
     "output_type": "execute_result"
    }
   ],
   "source": [
    "algorithms.dijkstra_predecessor_and_distance(g, 1, 5)"
   ]
  },
  {
   "cell_type": "code",
   "execution_count": 83,
   "metadata": {},
   "outputs": [
    {
     "data": {
      "text/plain": [
       "[0, 1, 2, 3, 4, 5, 6, 7, 8, 9]"
      ]
     },
     "execution_count": 83,
     "metadata": {},
     "output_type": "execute_result"
    }
   ],
   "source": [
    "import itertools\n",
    "g.nodes()"
   ]
  },
  {
   "cell_type": "code",
   "execution_count": 165,
   "metadata": {},
   "outputs": [
    {
     "data": {
      "text/plain": [
       "[(0, 1), (0, 2), (0, 3), (0, 4)]"
      ]
     },
     "execution_count": 165,
     "metadata": {},
     "output_type": "execute_result"
    }
   ],
   "source": [
    "pairs = list(itertools.combinations(g.nodes(), 2))\n",
    "pairs[:4]"
   ]
  },
  {
   "cell_type": "code",
   "execution_count": 147,
   "metadata": {},
   "outputs": [
    {
     "name": "stdout",
     "output_type": "stream",
     "text": [
      "[0, 1] [0, 1]\n",
      "[0, 2] [0, 2]\n",
      "[0, 3] [0, 3]\n",
      "[0, 1, 4] [0, 1, 4]\n",
      "[0, 5] [0, 5]\n",
      "[0, 1, 6] [0, 1, 6]\n",
      "[0, 5, 7] [0, 5, 7]\n",
      "[0, 5, 7, 8] [0, 5, 7, 8]\n",
      "[0, 5, 7, 8, 9] [0, 5, 7, 8, 9]\n",
      "[1, 0, 2] [1, 0, 2]\n"
     ]
    }
   ],
   "source": [
    "for pair in pairs[:10]:\n",
    "    print (algorithms.shortest_path(g, *pair),\n",
    "           algorithms.dijkstra_path(g, *pair))"
   ]
  },
  {
   "cell_type": "code",
   "execution_count": 129,
   "metadata": {
    "collapsed": true
   },
   "outputs": [],
   "source": [
    "from random import choice\n",
    "import numpy as np"
   ]
  },
  {
   "cell_type": "code",
   "execution_count": 137,
   "metadata": {
    "scrolled": true
   },
   "outputs": [
    {
     "name": "stdout",
     "output_type": "stream",
     "text": [
      "The slowest run took 4.47 times longer than the fastest. This could mean that an intermediate result is being cached.\n",
      "100000 loops, best of 3: 2.3 µs per loop\n"
     ]
    }
   ],
   "source": [
    "%%timeit\n",
    "choice(range(10))"
   ]
  },
  {
   "cell_type": "code",
   "execution_count": 138,
   "metadata": {
    "scrolled": true
   },
   "outputs": [
    {
     "name": "stdout",
     "output_type": "stream",
     "text": [
      "The slowest run took 8.94 times longer than the fastest. This could mean that an intermediate result is being cached.\n",
      "100000 loops, best of 3: 3.33 µs per loop\n"
     ]
    }
   ],
   "source": [
    "%%timeit\n",
    "np.random.randint(10)"
   ]
  },
  {
   "cell_type": "code",
   "execution_count": 162,
   "metadata": {},
   "outputs": [
    {
     "data": {
      "text/plain": [
       "[(0, 1, 5),\n",
       " (0, 2, 0),\n",
       " (0, 3, 6),\n",
       " (0, 4, 0),\n",
       " (0, 5, 3),\n",
       " (0, 6, 0),\n",
       " (0, 7, 0),\n",
       " (0, 8, 0),\n",
       " (0, 9, 2),\n",
       " (1, 2, 0)]"
      ]
     },
     "execution_count": 162,
     "metadata": {},
     "output_type": "execute_result"
    }
   ],
   "source": [
    "new_edges = [x + (choice(range(10)),) for x in pairs]\n",
    "new_edges[:10]"
   ]
  },
  {
   "cell_type": "code",
   "execution_count": 211,
   "metadata": {
    "scrolled": true
   },
   "outputs": [
    {
     "data": {
      "image/png": "[encoded data removed]",
      "text/plain": [
       "<matplotlib.figure.Figure at 0xa016cc0>"
      ]
     },
     "metadata": {},
     "output_type": "display_data"
    }
   ],
   "source": [
    "gg = g.copy()\n",
    "gg.clear()\n",
    "gg.add_weighted_edges_from(new_edges)\n",
    "nx.draw(gg, with_labels=True)"
   ]
  },
  {
   "cell_type": "code",
   "execution_count": 215,
   "metadata": {
    "scrolled": false
   },
   "outputs": [
    {
     "name": "stdout",
     "output_type": "stream",
     "text": [
      "[0, 1] [0, 2, 1]\n",
      "[0, 2] [0, 2]\n",
      "[0, 3] [0, 2, 3]\n",
      "[0, 4] [0, 4]\n",
      "[0, 5] [0, 4, 5]\n",
      "[0, 6] [0, 6]\n",
      "[0, 7] [0, 7]\n",
      "[0, 8] [0, 8]\n",
      "[0, 9] [0, 9]\n",
      "[1, 2] [1, 2]\n",
      "[1, 3] [1, 2, 3]\n",
      "[1, 4] [1, 4]\n",
      "[1, 5] [1, 4, 5]\n",
      "[1, 6] [1, 2, 0, 6]\n",
      "[1, 7] [1, 2, 0, 7]\n",
      "[1, 8] [1, 2, 0, 8]\n",
      "[1, 9] [1, 2, 0, 9]\n",
      "[2, 3] [2, 3]\n",
      "[2, 4] [2, 0, 4]\n",
      "[2, 5] [2, 0, 4, 5]\n",
      "[2, 6] [2, 0, 6]\n",
      "[2, 7] [2, 0, 7]\n",
      "[2, 8] [2, 0, 8]\n",
      "[2, 9] [2, 0, 9]\n",
      "[3, 4] [3, 2, 0, 4]\n",
      "[3, 5] [3, 2, 0, 4, 5]\n",
      "[3, 6] [3, 2, 0, 6]\n",
      "[3, 7] [3, 2, 0, 7]\n",
      "[3, 8] [3, 2, 0, 8]\n",
      "[3, 9] [3, 2, 0, 9]\n",
      "[4, 5] [4, 5]\n",
      "[4, 6] [4, 0, 6]\n",
      "[4, 7] [4, 0, 7]\n",
      "[4, 8] [4, 0, 8]\n",
      "[4, 9] [4, 0, 9]\n",
      "[5, 6] [5, 4, 0, 6]\n",
      "[5, 7] [5, 4, 0, 7]\n",
      "[5, 8] [5, 4, 0, 8]\n",
      "[5, 9] [5, 4, 0, 9]\n",
      "[6, 7] [6, 0, 7]\n",
      "[6, 8] [6, 0, 8]\n",
      "[6, 9] [6, 0, 9]\n",
      "[7, 8] [7, 0, 8]\n",
      "[7, 9] [7, 0, 9]\n",
      "[8, 9] [8, 0, 9]\n"
     ]
    }
   ],
   "source": [
    "for pair in pairs:\n",
    "    print (algorithms.shortest_path(gg, *pair),\n",
    "           algorithms.dijkstra_path(gg, *pair))"
   ]
  }
 ],
 "metadata": {
  "kernelspec": {
   "display_name": "Python [default]",
   "language": "python",
   "name": "python3"
  },
  "language_info": {
   "codemirror_mode": {
    "name": "ipython",
    "version": 3
   },
   "file_extension": ".py",
   "mimetype": "text/x-python",
   "name": "python",
   "nbconvert_exporter": "python",
   "pygments_lexer": "ipython3",
   "version": "3.4.5"
  }
 },
 "nbformat": 4,
 "nbformat_minor": 2
}
